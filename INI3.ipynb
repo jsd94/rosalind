{
 "cells": [
  {
   "cell_type": "markdown",
   "id": "30eb1f4a",
   "metadata": {},
   "source": [
    "# Problem definition\n",
    "\n",
    "Given: A string s of length at most 200 letters and four integers a, b, c and d.\n",
    "\n",
    "Return: The slice of this string from indices a through b and c through d (with space in between), inclusively. In other words, we should include elements s[b] and s[d] in our slice."
   ]
  },
  {
   "cell_type": "code",
   "execution_count": 57,
   "id": "674b9401",
   "metadata": {},
   "outputs": [],
   "source": [
    "import nbimporter\n",
    "from INI2 import func_to_file\n",
    "\n",
    "@func_to_file('INI3_out.txt')\n",
    "def slice_join(string,termini,joint=' ',mode='inclusive'):\n",
    "    if mode == 'inclusive':\n",
    "        slices = [string[a:b+1] for a,b in termini]\n",
    "    else:\n",
    "        slices = [string[a:b] for a,b in termini]\n",
    "        \n",
    "    joined = joint.join(slices)\n",
    "    return joined"
   ]
  },
  {
   "cell_type": "code",
   "execution_count": 58,
   "id": "884e3c12",
   "metadata": {},
   "outputs": [],
   "source": [
    "def n_tuple(lst,n):\n",
    "    return [a for a in zip(*[lst[i::n] for i in range(n)])]\n",
    "\n",
    "def INI3_parser(filename):\n",
    "    with open(filename,'r') as infile:\n",
    "        text = infile.readlines()\n",
    "        string = text[0].strip('\\n')\n",
    "        ints = [int(a) for a in text[1].strip('\\n').split(' ')]\n",
    "        termini = n_tuple(ints,2)\n",
    "                \n",
    "    return string,termini"
   ]
  },
  {
   "cell_type": "code",
   "execution_count": 59,
   "id": "7ff391df",
   "metadata": {},
   "outputs": [],
   "source": [
    "string,termini = INI3_parser('rosalind_ini3.txt')"
   ]
  },
  {
   "cell_type": "code",
   "execution_count": 60,
   "id": "03a42843",
   "metadata": {},
   "outputs": [],
   "source": [
    "slice_join(string,termini)"
   ]
  }
 ],
 "metadata": {
  "kernelspec": {
   "display_name": "Python 3 (ipykernel)",
   "language": "python",
   "name": "python3"
  },
  "language_info": {
   "codemirror_mode": {
    "name": "ipython",
    "version": 3
   },
   "file_extension": ".py",
   "mimetype": "text/x-python",
   "name": "python",
   "nbconvert_exporter": "python",
   "pygments_lexer": "ipython3",
   "version": "3.8.12"
  }
 },
 "nbformat": 4,
 "nbformat_minor": 5
}
