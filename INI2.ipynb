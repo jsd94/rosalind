{
 "cells": [
  {
   "cell_type": "markdown",
   "id": "22752640",
   "metadata": {},
   "source": [
    "# Problem definition\n",
    "\n",
    "Given: Two positive integers a and b, each less than 1000.\n",
    "\n",
    "Return: The integer corresponding to the square of the hypotenuse of the right triangle whose legs have lengths a and b.\n",
    "\n",
    "# Inputs\n",
    "\n",
    "Two positive integers $a$ and $b$, each less than 1000.\n",
    "\n",
    "# Output\n",
    "\n",
    "$ a^2 + b^2 $\n",
    "\n",
    "# Approach\n",
    "\n",
    "We'll employ the Pythagorean Theorem, $a^2 + b^2 = c^2$, which says that the squared length of the hypotenuse of any right triangle is equal to the sum of the squared lengths of the other sides. We'll implement this as a function, **hypotenuse_sqd**, that takes arguments for the leg lengths $a$ and $b$ and returns $c^2$.\n",
    "\n",
    "Since we want the output to go to a file, let's write a flexible way to do that that isn't specific to the **hypotenuse_sqd** function itself. What we'll do is write a second logging function, **logger**, and then redefine our **hypotenuse_sqd** function as **hypotenuse_sqd** = **logger**(**hypotenuse_sqd**). **logger** will take any function (func) as input, and use it to define a local function, **log_stdout**. **log_stdout** opens a file, runs **func** with any given arguments, and writes the result of **func** to the file. **logger** then returns **log_stdout**. So if we call **hypotenuse_sqd** = **logger**(**hypotenuse_sqd**), we are really making a new function, a specific case of the **log_stdout** function in which func = hypotenuse_sqd and the args are a and b. And now when we call **hypotenuse_sqd**, we're not calling just the basic version, but the version \"wrapped\" by **log_stdout**. Finally, the @ syntax simply provides us a shorthand for saying **hypotenuse_sqd** = **logger**(**hypotenuse_sqd**). We add another layer of wrapping to allow passing a filename argument."
   ]
  },
  {
   "cell_type": "code",
   "execution_count": 1,
   "id": "4cc7b9d4",
   "metadata": {},
   "outputs": [],
   "source": [
    "def func_to_file(filename):\n",
    "    def logger(func):\n",
    "        def log_stdout(*args,**kwargs):\n",
    "            with open(filename,'w') as outfile:\n",
    "                result = func(*args,**kwargs)\n",
    "                outfile.write(str(result))\n",
    "        return log_stdout\n",
    "    return logger"
   ]
  },
  {
   "cell_type": "code",
   "execution_count": 2,
   "id": "b56ccf70",
   "metadata": {},
   "outputs": [],
   "source": [
    "@func_to_file(filename='INI2_out.txt')\n",
    "def hypotenuse_sqd(a,b):\n",
    "    c_sqd = (a**2) + (b**2)\n",
    "    return c_sqd"
   ]
  },
  {
   "cell_type": "code",
   "execution_count": 3,
   "id": "86433a2c",
   "metadata": {},
   "outputs": [],
   "source": [
    "hypotenuse_sqd(923,826)"
   ]
  }
 ],
 "metadata": {
  "kernelspec": {
   "display_name": "Python 3 (ipykernel)",
   "language": "python",
   "name": "python3"
  },
  "language_info": {
   "codemirror_mode": {
    "name": "ipython",
    "version": 3
   },
   "file_extension": ".py",
   "mimetype": "text/x-python",
   "name": "python",
   "nbconvert_exporter": "python",
   "pygments_lexer": "ipython3",
   "version": "3.8.12"
  }
 },
 "nbformat": 4,
 "nbformat_minor": 5
}
