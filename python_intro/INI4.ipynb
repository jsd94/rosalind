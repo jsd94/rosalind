{
 "cells": [
  {
   "cell_type": "markdown",
   "id": "98b06560",
   "metadata": {},
   "source": [
    "# Problem definition\n",
    "\n",
    "Given: Two positive integers a and b (a<b<10000).\n",
    "\n",
    "Return: The sum of all odd integers from a through b, inclusively."
   ]
  },
  {
   "cell_type": "code",
   "execution_count": 30,
   "id": "fe7ba645",
   "metadata": {},
   "outputs": [],
   "source": [
    "import nbimporter\n",
    "from INI2 import func_to_file\n",
    "import math\n",
    "\n",
    "def odd_or_even(integer):\n",
    "    x = integer/2.0\n",
    "    remainder = (x) - math.floor(x)\n",
    "    if remainder > 0:\n",
    "        return 'odd'\n",
    "    else:\n",
    "        return 'even'\n",
    "    \n",
    "@func_to_file('INI4_out.txt')\n",
    "def INI4(a,b):\n",
    "    lst = [a for a in range(a,b+1)]\n",
    "    if odd_or_even(a) == 'odd':\n",
    "        lst2 = lst[::2]\n",
    "    else:\n",
    "        lst2 = lst[1::2]\n",
    "    return sum(lst2)\n",
    "\n",
    "def INI4_parser(filename):\n",
    "    with open(filename,'r') as infile:\n",
    "        text = infile.readlines()[0].split()\n",
    "        ints = [int(a) for a in text]\n",
    "        a = ints[0]\n",
    "        b = ints[1]\n",
    "        return a,b\n"
   ]
  },
  {
   "cell_type": "code",
   "execution_count": 31,
   "id": "3eab9ef0",
   "metadata": {},
   "outputs": [],
   "source": [
    "a,b = INI4_parser('rosalind_ini4.txt')\n",
    "INI4(a,b)"
   ]
  }
 ],
 "metadata": {
  "kernelspec": {
   "display_name": "Python 3 (ipykernel)",
   "language": "python",
   "name": "python3"
  },
  "language_info": {
   "codemirror_mode": {
    "name": "ipython",
    "version": 3
   },
   "file_extension": ".py",
   "mimetype": "text/x-python",
   "name": "python",
   "nbconvert_exporter": "python",
   "pygments_lexer": "ipython3",
   "version": "3.8.12"
  }
 },
 "nbformat": 4,
 "nbformat_minor": 5
}
