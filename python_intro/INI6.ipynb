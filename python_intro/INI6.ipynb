{
 "cells": [
  {
   "cell_type": "markdown",
   "id": "c4779936",
   "metadata": {},
   "source": [
    "# Problem definition\n",
    "\n",
    "Given: A string s of length at most 10000 letters.\n",
    "\n",
    "Return: The number of occurrences of each word in s, where words are separated by spaces. Words are case-sensitive, and the lines in the output can be in any order."
   ]
  },
  {
   "cell_type": "code",
   "execution_count": 94,
   "id": "0f54cd91",
   "metadata": {},
   "outputs": [],
   "source": [
    "import nbimporter\n",
    "from INI2 import func_to_file\n",
    "\n",
    "@func_to_file('INI6_out.txt')\n",
    "def word_counter(string):\n",
    "    lst = string.split(' ')\n",
    "    dct = {}\n",
    "    for a in lst:\n",
    "        if a in dct.keys():\n",
    "            dct[a] += 1\n",
    "        else:\n",
    "            dct[a] = 1\n",
    "    \n",
    "    lines = ''\n",
    "    for a in dct.keys():\n",
    "        dct_str = ' '.join([a,str(dct[a])])\n",
    "        dct_str += '\\n'\n",
    "        lines+=(dct_str)\n",
    "    return lines\n",
    "\n",
    "def INI6_parser(filename):\n",
    "    with open(filename,'r') as infile:\n",
    "        string = infile.read().strip('\\n')\n",
    "        return string\n",
    "    \n",
    "def checker(result,expected,ordered=False):\n",
    "    with open(result,'r') as infile1:\n",
    "        with open(expected,'r') as infile2:\n",
    "            if ordered == True:\n",
    "                res = infile1.read()\n",
    "                exp = infile2.read()\n",
    "                return res == exp\n",
    "            else:\n",
    "                res = infile1.readlines()\n",
    "                exp = infile2.readlines()\n",
    "                res = sorted([a.strip('\\n') for a in res])\n",
    "                exp = sorted([a.strip('\\n') for a in exp])\n",
    "                return res == exp\n",
    "                       "
   ]
  },
  {
   "cell_type": "code",
   "execution_count": 95,
   "id": "5ad04246",
   "metadata": {},
   "outputs": [],
   "source": [
    "string = INI6_parser('rosalind_ini6.txt')\n",
    "word_counter(string)\n",
    "# checker('INI6_out.txt','sample_out.txt')"
   ]
  }
 ],
 "metadata": {
  "kernelspec": {
   "display_name": "Python 3 (ipykernel)",
   "language": "python",
   "name": "python3"
  },
  "language_info": {
   "codemirror_mode": {
    "name": "ipython",
    "version": 3
   },
   "file_extension": ".py",
   "mimetype": "text/x-python",
   "name": "python",
   "nbconvert_exporter": "python",
   "pygments_lexer": "ipython3",
   "version": "3.8.12"
  }
 },
 "nbformat": 4,
 "nbformat_minor": 5
}
