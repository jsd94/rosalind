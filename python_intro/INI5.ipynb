{
 "cells": [
  {
   "cell_type": "markdown",
   "id": "6cec7aeb",
   "metadata": {},
   "source": [
    "# Problem definition\n",
    "\n",
    "Given: A file containing at most 1000 lines.\n",
    "\n",
    "Return: A file containing all the even-numbered lines from the original file. Assume 1-based numbering of lines."
   ]
  },
  {
   "cell_type": "code",
   "execution_count": 13,
   "id": "0759f4a4",
   "metadata": {},
   "outputs": [],
   "source": [
    "import nbimporter\n",
    "from INI2 import func_to_file\n",
    "\n",
    "@func_to_file('INI5_out.txt')\n",
    "def INI5(filename):\n",
    "    with open(filename,'r') as infile:\n",
    "        lines = infile.readlines()\n",
    "        even_lines = lines[1::2]\n",
    "        out = ''.join(even_lines)\n",
    "    return out"
   ]
  },
  {
   "cell_type": "code",
   "execution_count": 14,
   "id": "db8e0f2c",
   "metadata": {},
   "outputs": [],
   "source": [
    "INI5('rosalind_ini5.txt')"
   ]
  }
 ],
 "metadata": {
  "kernelspec": {
   "display_name": "Python 3 (ipykernel)",
   "language": "python",
   "name": "python3"
  },
  "language_info": {
   "codemirror_mode": {
    "name": "ipython",
    "version": 3
   },
   "file_extension": ".py",
   "mimetype": "text/x-python",
   "name": "python",
   "nbconvert_exporter": "python",
   "pygments_lexer": "ipython3",
   "version": "3.8.12"
  }
 },
 "nbformat": 4,
 "nbformat_minor": 5
}
