{
 "cells": [
  {
   "cell_type": "markdown",
   "id": "b255aecb",
   "metadata": {},
   "source": [
    "# Problem definition\n",
    "\n",
    "\n",
    "Given: A positive integer n≤25.\n",
    "\n",
    "Return: The value of Fib(n)."
   ]
  },
  {
   "cell_type": "code",
   "execution_count": 18,
   "id": "885465d3",
   "metadata": {},
   "outputs": [],
   "source": [
    "import nbimporter\n",
    "from INI2 import func_to_file\n",
    "\n",
    "@func_to_file('FIBO_out.txt')\n",
    "def fib(n,fib_cache=[0,1]):\n",
    "    if fib_cache[0] != 0 or fib_cache[1] != 1:\n",
    "        fib_cache = [0,1]\n",
    "        \n",
    "    if n < len(fib_cache)-1 or n == len(fib_cache)-1:\n",
    "        return fib_cache[n]\n",
    "    else:\n",
    "        fib_cache.append(fib_cache[-1]+fib_cache[-2])\n",
    "        fib(n,fib_cache)\n",
    "        return fib_cache[n]\n",
    "    \n",
    "def FIBO_parser(filename):\n",
    "    with open(filename,'r') as infile:\n",
    "        text = infile.read()\n",
    "        n = int(text)\n",
    "        return n"
   ]
  },
  {
   "cell_type": "code",
   "execution_count": 20,
   "id": "6d1a02c8",
   "metadata": {},
   "outputs": [],
   "source": [
    "n = FIBO_parser('rosalind_fibo.txt')\n",
    "fib(n)"
   ]
  }
 ],
 "metadata": {
  "kernelspec": {
   "display_name": "Python 3 (ipykernel)",
   "language": "python",
   "name": "python3"
  },
  "language_info": {
   "codemirror_mode": {
    "name": "ipython",
    "version": 3
   },
   "file_extension": ".py",
   "mimetype": "text/x-python",
   "name": "python",
   "nbconvert_exporter": "python",
   "pygments_lexer": "ipython3",
   "version": "3.8.12"
  }
 },
 "nbformat": 4,
 "nbformat_minor": 5
}
