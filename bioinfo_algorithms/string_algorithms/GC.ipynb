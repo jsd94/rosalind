{
 "cells": [
  {
   "cell_type": "markdown",
   "id": "ccf11d8d",
   "metadata": {},
   "source": [
    "# Problem definition\n",
    "\n",
    "The GC-content of a DNA string is given by the percentage of symbols in the string that are 'C' or 'G'. For example, the GC-content of \"AGCTATAG\" is 37.5%. Note that the reverse complement of any DNA string has the same GC-content.\n",
    "\n",
    "DNA strings must be labeled when they are consolidated into a database. A commonly used method of string labeling is called FASTA format. In this format, the string is introduced by a line that begins with '>', followed by some labeling information. Subsequent lines contain the string itself; the first line to begin with '>' indicates the label of the next string.\n",
    "\n",
    "In Rosalind's implementation, a string in FASTA format will be labeled by the ID \"Rosalind_xxxx\", where \"xxxx\" denotes a four-digit code between 0000 and 9999.\n",
    "\n",
    "Given: At most 10 DNA strings in FASTA format (of length at most 1 kbp each).\n",
    "\n",
    "Return: The ID of the string having the highest GC-content, followed by the GC-content of that string. Rosalind allows for a default error of 0.001 in all decimal answers unless otherwise stated; please see the note on absolute error below."
   ]
  },
  {
   "cell_type": "code",
   "execution_count": 95,
   "id": "57bea3c3",
   "metadata": {},
   "outputs": [],
   "source": [
    "from rosalind_modules.generaltools import checker\n",
    "from rosalind_modules.generaltools import func_to_file\n",
    "\n",
    "def gc_content(seq):\n",
    "    count = seq.count('G')+seq.count('C')+seq.count('c')+seq.count('g')\n",
    "    gc_percent = 100.0*count/len(seq)\n",
    "    return gc_percent\n",
    "\n",
    "def FASTA_parser(fasta_infile):\n",
    "    dct = {}\n",
    "    with open(fasta_infile,'r') as infile:\n",
    "        lines = [a.strip('\\n') for a in infile.readlines()]\n",
    "        for line in lines:\n",
    "            if line.startswith('>'):\n",
    "                current_id = line[1:]\n",
    "                dct[current_id] = ''\n",
    "            else:\n",
    "                dct[current_id] += line\n",
    "    return dct\n",
    "\n",
    "@func_to_file('GC_out.txt')\n",
    "def highest_gc(seqs_dct):\n",
    "    gcs_dct = {}\n",
    "    max_gc = 0\n",
    "    for a in seqs_dct:\n",
    "        gc = gc_content(seqs_dct[a])\n",
    "        gcs_dct[a] = gc\n",
    "        if gc > max_gc:\n",
    "            max_gc = gc\n",
    "            max_gc_key = a\n",
    "    return max_gc_key+'\\n'+str(max_gc)"
   ]
  },
  {
   "cell_type": "code",
   "execution_count": 97,
   "id": "086b8f0f",
   "metadata": {},
   "outputs": [
    {
     "data": {
      "text/plain": [
       "False"
      ]
     },
     "execution_count": 97,
     "metadata": {},
     "output_type": "execute_result"
    }
   ],
   "source": [
    "fasta = FASTA_parser('sample_in.txt')\n",
    "highest_gc(fasta)\n",
    "checker('GC_out.txt','sample_out.txt')"
   ]
  },
  {
   "cell_type": "code",
   "execution_count": 98,
   "id": "02a8b2c2",
   "metadata": {},
   "outputs": [],
   "source": [
    "fasta = FASTA_parser('rosalind_gc.txt')\n",
    "highest_gc(fasta)"
   ]
  }
 ],
 "metadata": {
  "kernelspec": {
   "display_name": "Python 3 (ipykernel)",
   "language": "python",
   "name": "python3"
  },
  "language_info": {
   "codemirror_mode": {
    "name": "ipython",
    "version": 3
   },
   "file_extension": ".py",
   "mimetype": "text/x-python",
   "name": "python",
   "nbconvert_exporter": "python",
   "pygments_lexer": "ipython3",
   "version": "3.8.12"
  }
 },
 "nbformat": 4,
 "nbformat_minor": 5
}
