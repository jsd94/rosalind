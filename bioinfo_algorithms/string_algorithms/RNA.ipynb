{
 "cells": [
  {
   "cell_type": "markdown",
   "id": "7e191349",
   "metadata": {},
   "source": [
    "# Problem definition\n",
    "\n",
    "An RNA string is a string formed from the alphabet containing 'A', 'C', 'G', and 'U'.\n",
    "\n",
    "Given a DNA string t corresponding to a coding strand, its transcribed RNA string u is formed by replacing all occurrences of 'T' in t with 'U' in u.\n",
    "\n",
    "Given: A DNA string t having length at most 1000 nt.\n",
    "\n",
    "Return: The transcribed RNA string of t."
   ]
  },
  {
   "cell_type": "code",
   "execution_count": 4,
   "id": "8c9fc724",
   "metadata": {},
   "outputs": [],
   "source": [
    "from rosalind_modules.generaltools import checker\n",
    "from rosalind_modules.generaltools import func_to_file\n",
    "\n",
    "@func_to_file('RNA_out.txt')\n",
    "def transcribe(dna_seq):\n",
    "    rna_seq = dna_seq.replace('t','u')\n",
    "    rna_seq = rna_seq.replace('T','U')\n",
    "        \n",
    "    return rna_seq\n",
    "\n",
    "def RNA_parser(infile):\n",
    "    with open(infile,'r') as infile:\n",
    "        string = infile.read().strip('\\n')\n",
    "        return string"
   ]
  },
  {
   "cell_type": "code",
   "execution_count": 5,
   "id": "73880f5a",
   "metadata": {},
   "outputs": [
    {
     "data": {
      "text/plain": [
       "False"
      ]
     },
     "execution_count": 5,
     "metadata": {},
     "output_type": "execute_result"
    }
   ],
   "source": [
    "string = RNA_parser('sample_in.txt')\n",
    "transcribe(string)\n",
    "checker('RNA_out.txt','sample_out.txt')"
   ]
  },
  {
   "cell_type": "code",
   "execution_count": 11,
   "id": "a9a17a9e",
   "metadata": {},
   "outputs": [],
   "source": [
    "string = RNA_parser('rosalind_rna.txt')\n",
    "transcribe(string)"
   ]
  }
 ],
 "metadata": {
  "kernelspec": {
   "display_name": "Python 3 (ipykernel)",
   "language": "python",
   "name": "python3"
  },
  "language_info": {
   "codemirror_mode": {
    "name": "ipython",
    "version": 3
   },
   "file_extension": ".py",
   "mimetype": "text/x-python",
   "name": "python",
   "nbconvert_exporter": "python",
   "pygments_lexer": "ipython3",
   "version": "3.8.12"
  }
 },
 "nbformat": 4,
 "nbformat_minor": 5
}
