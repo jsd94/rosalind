{
 "cells": [
  {
   "cell_type": "markdown",
   "id": "7c6b292a",
   "metadata": {},
   "source": [
    "# Problem definition\n",
    "\n",
    "A string is simply an ordered collection of symbols selected from some alphabet and formed into a word; the length of a string is the number of symbols that it contains.\n",
    "\n",
    "An example of a length 21 DNA string (whose alphabet contains the symbols 'A', 'C', 'G', and 'T') is \"ATGCTTCAGAAAGGTCTTACG.\"\n",
    "\n",
    "Given: A DNA string s of length at most 1000 nt.\n",
    "\n",
    "Return: Four integers (separated by spaces) counting the respective number of times that the symbols 'A', 'C', 'G', and 'T' occur in s."
   ]
  },
  {
   "cell_type": "code",
   "execution_count": 1,
   "id": "c22a2379",
   "metadata": {},
   "outputs": [],
   "source": [
    "from rosalind_modules.generaltools import func_to_file\n",
    "from rosalind_modules.generaltools import checker\n",
    "\n",
    "@func_to_file('DNA_out.txt')\n",
    "def unique_char_count(string):\n",
    "    dct = {}\n",
    "    for char in string:\n",
    "        if char in dct.keys():\n",
    "            dct[char] += 1\n",
    "        else:\n",
    "            dct[char] = 1\n",
    "    out = ' '.join([str(dct[key]) for key in sorted(dct.keys())])\n",
    "    return out  \n",
    "\n",
    "def DNA_parser(infile):\n",
    "    with open(infile,'r') as infile:\n",
    "        string = infile.read().strip('\\n')\n",
    "        return string"
   ]
  },
  {
   "cell_type": "code",
   "execution_count": 12,
   "id": "e66cfe6a",
   "metadata": {},
   "outputs": [
    {
     "data": {
      "text/plain": [
       "True"
      ]
     },
     "execution_count": 12,
     "metadata": {},
     "output_type": "execute_result"
    }
   ],
   "source": [
    "string = DNA_parser('sample_in.txt')\n",
    "unique_char_count(string)\n",
    "checker('DNA_out.txt','sample_out.txt')"
   ]
  },
  {
   "cell_type": "code",
   "execution_count": 13,
   "id": "57e4d42c",
   "metadata": {},
   "outputs": [],
   "source": [
    "string = DNA_parser('rosalind_dna.txt')\n",
    "unique_char_count(string)"
   ]
  }
 ],
 "metadata": {
  "kernelspec": {
   "display_name": "Python 3 (ipykernel)",
   "language": "python",
   "name": "python3"
  },
  "language_info": {
   "codemirror_mode": {
    "name": "ipython",
    "version": 3
   },
   "file_extension": ".py",
   "mimetype": "text/x-python",
   "name": "python",
   "nbconvert_exporter": "python",
   "pygments_lexer": "ipython3",
   "version": "3.8.12"
  }
 },
 "nbformat": 4,
 "nbformat_minor": 5
}
