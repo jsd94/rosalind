{
 "cells": [
  {
   "cell_type": "markdown",
   "id": "4947cc87",
   "metadata": {},
   "source": [
    "# Problem definition\n",
    "\n",
    "In DNA strings, symbols 'A' and 'T' are complements of each other, as are 'C' and 'G'.\n",
    "\n",
    "The reverse complement of a DNA string s is the string sc formed by reversing the symbols of s, then taking the complement of each symbol (e.g., the reverse complement of \"GTCA\" is \"TGAC\").\n",
    "\n",
    "Given: A DNA string s of length at most 1000 bp.\n",
    "\n",
    "Return: The reverse complement sc of s."
   ]
  },
  {
   "cell_type": "code",
   "execution_count": 2,
   "id": "42ab2f3f",
   "metadata": {},
   "outputs": [],
   "source": [
    "from rosalind_modules.generaltools import checker\n",
    "from rosalind_modules.generaltools import func_to_file\n",
    "\n",
    "def reverse(seq):\n",
    "    return seq[::-1]\n",
    "\n",
    "def complement(seq):\n",
    "    dct = {\n",
    "        'A':'T',\n",
    "        'G':'C',\n",
    "        'C':'G',\n",
    "        'T':'A',\n",
    "        'U':'A'\n",
    "    }\n",
    "    \n",
    "    comp = ''.join([dct[a] for a in seq])\n",
    "    return comp\n",
    "\n",
    "@func_to_file('REVC_out.txt')\n",
    "def rev_comp(seq):\n",
    "    rev = reverse(seq)\n",
    "    rev_comp = complement(rev)\n",
    "    return rev_comp\n",
    "\n",
    "def REVC_parser(infile):\n",
    "    with open(infile,'r') as infile:\n",
    "        string = infile.read().strip('\\n')\n",
    "        return string"
   ]
  },
  {
   "cell_type": "code",
   "execution_count": 3,
   "id": "c4d75c03",
   "metadata": {},
   "outputs": [
    {
     "data": {
      "text/plain": [
       "True"
      ]
     },
     "execution_count": 3,
     "metadata": {},
     "output_type": "execute_result"
    }
   ],
   "source": [
    "string = REVC_parser('sample_in.txt')\n",
    "rev_comp(string)\n",
    "checker('REVC_out.txt','sample_out.txt')"
   ]
  },
  {
   "cell_type": "code",
   "execution_count": 27,
   "id": "b0a2a1ad",
   "metadata": {},
   "outputs": [],
   "source": [
    "string = REVC_parser('rosalind_revc.txt')\n",
    "rev_comp(string)"
   ]
  }
 ],
 "metadata": {
  "kernelspec": {
   "display_name": "Python 3 (ipykernel)",
   "language": "python",
   "name": "python3"
  },
  "language_info": {
   "codemirror_mode": {
    "name": "ipython",
    "version": 3
   },
   "file_extension": ".py",
   "mimetype": "text/x-python",
   "name": "python",
   "nbconvert_exporter": "python",
   "pygments_lexer": "ipython3",
   "version": "3.8.12"
  }
 },
 "nbformat": 4,
 "nbformat_minor": 5
}
