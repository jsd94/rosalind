{
 "cells": [
  {
   "cell_type": "markdown",
   "id": "3b55925d",
   "metadata": {},
   "source": [
    "# Problem definition\n",
    "\n",
    "The 20 commonly occurring amino acids are abbreviated by using 20 letters from the English alphabet (all letters except for B, J, O, U, X, and Z). Protein strings are constructed from these 20 symbols. Henceforth, the term genetic string will incorporate protein strings along with DNA strings and RNA strings.\n",
    "\n",
    "The RNA codon table dictates the details regarding the encoding of specific codons into the amino acid alphabet.\n",
    "\n",
    "Given: An RNA string s corresponding to a strand of mRNA (of length at most 10 kbp).\n",
    "\n",
    "Return: The protein string encoded by s.\n",
    "\n"
   ]
  },
  {
   "cell_type": "code",
   "execution_count": 2,
   "id": "a4af7019",
   "metadata": {},
   "outputs": [],
   "source": [
    "from rosalind_modules.generaltools import checker\n",
    "from rosalind_modules.generaltools import func_to_file\n",
    "from rosalind_modules.stringtools import transcribe\n",
    "\n",
    "@func_to_file('PROT_out.txt')\n",
    "def translate(seq):\n",
    "    seq = transcribe(seq)\n",
    "    dct = {\n",
    "        ''\n",
    "    }\n",
    "    translated_seq = ''.join([dct[a] for a in seq])\n",
    "    return translated_seq\n",
    "\n",
    "def PROT_parser(infile):\n",
    "    with open(infile,'r') as infile:\n",
    "        string = infile.read().replace('\\n','')\n",
    "    return string"
   ]
  },
  {
   "cell_type": "code",
   "execution_count": null,
   "id": "73be1bae",
   "metadata": {},
   "outputs": [],
   "source": [
    "string = PROT_parser('sample_in.txt')\n",
    "translate(string)\n",
    "checker('PROT_out.txt','sample_in.txt')"
   ]
  },
  {
   "cell_type": "code",
   "execution_count": null,
   "id": "a6af6e18",
   "metadata": {},
   "outputs": [],
   "source": []
  }
 ],
 "metadata": {
  "kernelspec": {
   "display_name": "Python 3 (ipykernel)",
   "language": "python",
   "name": "python3"
  },
  "language_info": {
   "codemirror_mode": {
    "name": "ipython",
    "version": 3
   },
   "file_extension": ".py",
   "mimetype": "text/x-python",
   "name": "python",
   "nbconvert_exporter": "python",
   "pygments_lexer": "ipython3",
   "version": "3.8.12"
  }
 },
 "nbformat": 4,
 "nbformat_minor": 5
}
