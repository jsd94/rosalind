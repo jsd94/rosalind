{
 "cells": [
  {
   "cell_type": "markdown",
   "id": "2b397812",
   "metadata": {},
   "source": [
    "# Problem definition\n",
    "\"After downloading and installing Python, type import this into the Python command line and see what happens. Then, click the \"Download dataset\" button below and copy the Zen of Python into the space provided.\"\n",
    "\n",
    "# Input data\n",
    "None\n",
    "\n",
    "# Output data\n",
    "\"The Zen of Python\" poem in a .txt file or in console"
   ]
  },
  {
   "cell_type": "markdown",
   "id": "6ccd7d73",
   "metadata": {},
   "source": [
    "# Approach #1: Naive copy and paste\n",
    "The simplest approach using a python IDE. We'll just import the module \"this\", which will print the Zen of Python to the console (stdout). Then we'll copy and paste the output as our Rosalind answer and we're done."
   ]
  },
  {
   "cell_type": "code",
   "execution_count": 11,
   "id": "a4684ebb",
   "metadata": {},
   "outputs": [],
   "source": [
    "import this"
   ]
  },
  {
   "cell_type": "markdown",
   "id": "4ba3f4a3",
   "metadata": {},
   "source": [
    "## One problem with the naive approach\n",
    "We can't rerun the above cell (repeating the call to import this) and get the poem over and over again, at least not without restarting the kernel. If we were simply calling print(), we would get the output each time we ran the print function. However, since the code in \"this\" only runs on import, and the module is cached once imported, calling import this again after this is already in the namespace doesn't do anything, and we don't get any output. We can fix that using the importlib module of the standard library."
   ]
  },
  {
   "cell_type": "code",
   "execution_count": 9,
   "id": "fa0b695f",
   "metadata": {},
   "outputs": [
    {
     "name": "stdout",
     "output_type": "stream",
     "text": [
      "The Zen of Python, by Tim Peters\n",
      "\n",
      "Beautiful is better than ugly.\n",
      "Explicit is better than implicit.\n",
      "Simple is better than complex.\n",
      "Complex is better than complicated.\n",
      "Flat is better than nested.\n",
      "Sparse is better than dense.\n",
      "Readability counts.\n",
      "Special cases aren't special enough to break the rules.\n",
      "Although practicality beats purity.\n",
      "Errors should never pass silently.\n",
      "Unless explicitly silenced.\n",
      "In the face of ambiguity, refuse the temptation to guess.\n",
      "There should be one-- and preferably only one --obvious way to do it.\n",
      "Although that way may not be obvious at first unless you're Dutch.\n",
      "Now is better than never.\n",
      "Although never is often better than *right* now.\n",
      "If the implementation is hard to explain, it's a bad idea.\n",
      "If the implementation is easy to explain, it may be a good idea.\n",
      "Namespaces are one honking great idea -- let's do more of those!\n"
     ]
    },
    {
     "data": {
      "text/plain": [
       "<module 'this' from '/home/jsd/anaconda3/envs/rosalind/lib/python3.8/this.py'>"
      ]
     },
     "execution_count": 9,
     "metadata": {},
     "output_type": "execute_result"
    }
   ],
   "source": [
    "import this\n",
    "from importlib import reload\n",
    "reload(this)"
   ]
  },
  {
   "cell_type": "markdown",
   "id": "fee9660e",
   "metadata": {},
   "source": [
    "\n",
    "\n",
    "Now, when we run the above cell, we get the poem each and every time, instead of just the first time.\n",
    "\n",
    "# Approach #2: Writing the poem to a file within python\n",
    "\n",
    "What if we want to skip having to select the poem and manually copy it? We can write it to a file instead. Again, if we were just using something like print(), this would be simple, because we could pass a file argument to print() and make it print to the file instead of to the console. But while the \"this\" module does use print() internally to print the poem to the console, we don't want to have to edit the source code of \"this\". A workaround is to temporarily redirect *all* standard output, which normally goes to the console in the case of print(), to another location, in this case a file of our choosing. We can do that with contextlib.redirect_stdout from the standard library.\n",
    "\n",
    "We'll also use a with statement to handle opening and closing our output file, so that it can be rewritten to over and over again and doesn't stay in memory. Finally, we'll use another with statement for redirect_stdout to make sure that our change to stdout is local to just this indented block."
   ]
  },
  {
   "cell_type": "code",
   "execution_count": 13,
   "id": "7977660b",
   "metadata": {},
   "outputs": [],
   "source": [
    "import this\n",
    "from importlib import reload\n",
    "from contextlib import redirect_stdout\n",
    "with open('INI1_out.txt','w') as outfile:\n",
    "    with redirect_stdout(outfile):\n",
    "        reload(this)"
   ]
  },
  {
   "cell_type": "markdown",
   "id": "77b8b573",
   "metadata": {},
   "source": [
    "# Approach #3: Writing the poem to a file using bash\n",
    "\n",
    "Finally, we can use the bash command echo and a pipe to pass the import this command to python, and use the greater-than sign to pass python's output to our text file."
   ]
  },
  {
   "cell_type": "code",
   "execution_count": 18,
   "id": "7f5b4c90",
   "metadata": {},
   "outputs": [],
   "source": [
    "%%bash\n",
    "echo import this | python > INI1_out.txt"
   ]
  }
 ],
 "metadata": {
  "kernelspec": {
   "display_name": "Python 3 (ipykernel)",
   "language": "python",
   "name": "python3"
  },
  "language_info": {
   "codemirror_mode": {
    "name": "ipython",
    "version": 3
   },
   "file_extension": ".py",
   "mimetype": "text/x-python",
   "name": "python",
   "nbconvert_exporter": "python",
   "pygments_lexer": "ipython3",
   "version": "3.8.12"
  }
 },
 "nbformat": 4,
 "nbformat_minor": 5
}
